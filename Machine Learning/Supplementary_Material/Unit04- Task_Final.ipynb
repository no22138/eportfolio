{
 "cells": [
  {
   "cell_type": "markdown",
   "metadata": {},
   "source": [
    "## Importing the packages"
   ]
  },
  {
   "cell_type": "code",
   "execution_count": 1,
   "metadata": {},
   "outputs": [],
   "source": [
    "import matplotlib.pyplot as plt\n",
    "import pandas as pd\n",
    "import pylab as pl\n",
    "import numpy as np\n",
    "import seaborn as sns"
   ]
  },
  {
   "cell_type": "markdown",
   "metadata": {},
   "source": [
    "## Load the data"
   ]
  },
  {
   "cell_type": "code",
   "execution_count": 2,
   "metadata": {},
   "outputs": [],
   "source": [
    "# Reading the data\n",
    "df1=pd.read_csv(\"Global_GDP.csv\")"
   ]
  },
  {
   "cell_type": "code",
   "execution_count": 3,
   "metadata": {},
   "outputs": [],
   "source": [
    "df2=pd.read_csv(\"Global_Population.csv\")"
   ]
  },
  {
   "cell_type": "markdown",
   "metadata": {},
   "source": [
    "Print the head of the dataframes"
   ]
  },
  {
   "cell_type": "code",
   "execution_count": 4,
   "metadata": {},
   "outputs": [
    {
     "data": {
      "text/html": [
       "<div>\n",
       "<style scoped>\n",
       "    .dataframe tbody tr th:only-of-type {\n",
       "        vertical-align: middle;\n",
       "    }\n",
       "\n",
       "    .dataframe tbody tr th {\n",
       "        vertical-align: top;\n",
       "    }\n",
       "\n",
       "    .dataframe thead th {\n",
       "        text-align: right;\n",
       "    }\n",
       "</style>\n",
       "<table border=\"1\" class=\"dataframe\">\n",
       "  <thead>\n",
       "    <tr style=\"text-align: right;\">\n",
       "      <th></th>\n",
       "      <th>Country Name</th>\n",
       "      <th>Country Code</th>\n",
       "      <th>Indicator Name</th>\n",
       "      <th>Indicator Code</th>\n",
       "      <th>1960</th>\n",
       "      <th>1961</th>\n",
       "      <th>1962</th>\n",
       "      <th>1963</th>\n",
       "      <th>1964</th>\n",
       "      <th>1965</th>\n",
       "      <th>...</th>\n",
       "      <th>2011</th>\n",
       "      <th>2012</th>\n",
       "      <th>2013</th>\n",
       "      <th>2014</th>\n",
       "      <th>2015</th>\n",
       "      <th>2016</th>\n",
       "      <th>2017</th>\n",
       "      <th>2018</th>\n",
       "      <th>2019</th>\n",
       "      <th>2020</th>\n",
       "    </tr>\n",
       "  </thead>\n",
       "  <tbody>\n",
       "    <tr>\n",
       "      <th>0</th>\n",
       "      <td>Aruba</td>\n",
       "      <td>ABW</td>\n",
       "      <td>GDP (current US$)</td>\n",
       "      <td>NY.GDP.MKTP.CD</td>\n",
       "      <td>NaN</td>\n",
       "      <td>NaN</td>\n",
       "      <td>NaN</td>\n",
       "      <td>NaN</td>\n",
       "      <td>NaN</td>\n",
       "      <td>NaN</td>\n",
       "      <td>...</td>\n",
       "      <td>2.549721e+09</td>\n",
       "      <td>2.534637e+09</td>\n",
       "      <td>2.727850e+09</td>\n",
       "      <td>2.790849e+09</td>\n",
       "      <td>2.962905e+09</td>\n",
       "      <td>2.983637e+09</td>\n",
       "      <td>3.092430e+09</td>\n",
       "      <td>3.202189e+09</td>\n",
       "      <td>NaN</td>\n",
       "      <td>NaN</td>\n",
       "    </tr>\n",
       "    <tr>\n",
       "      <th>1</th>\n",
       "      <td>Africa Eastern and Southern</td>\n",
       "      <td>AFE</td>\n",
       "      <td>GDP (current US$)</td>\n",
       "      <td>NY.GDP.MKTP.CD</td>\n",
       "      <td>1.929944e+10</td>\n",
       "      <td>1.970954e+10</td>\n",
       "      <td>2.147872e+10</td>\n",
       "      <td>2.571501e+10</td>\n",
       "      <td>2.351080e+10</td>\n",
       "      <td>2.679160e+10</td>\n",
       "      <td>...</td>\n",
       "      <td>9.427110e+11</td>\n",
       "      <td>9.498490e+11</td>\n",
       "      <td>9.635600e+11</td>\n",
       "      <td>9.837490e+11</td>\n",
       "      <td>9.186470e+11</td>\n",
       "      <td>8.720230e+11</td>\n",
       "      <td>9.842560e+11</td>\n",
       "      <td>1.011720e+12</td>\n",
       "      <td>1.008380e+12</td>\n",
       "      <td>9.188150e+11</td>\n",
       "    </tr>\n",
       "    <tr>\n",
       "      <th>2</th>\n",
       "      <td>Afghanistan</td>\n",
       "      <td>AFG</td>\n",
       "      <td>GDP (current US$)</td>\n",
       "      <td>NY.GDP.MKTP.CD</td>\n",
       "      <td>5.377778e+08</td>\n",
       "      <td>5.488889e+08</td>\n",
       "      <td>5.466667e+08</td>\n",
       "      <td>7.511112e+08</td>\n",
       "      <td>8.000000e+08</td>\n",
       "      <td>1.006667e+09</td>\n",
       "      <td>...</td>\n",
       "      <td>1.780511e+10</td>\n",
       "      <td>1.990732e+10</td>\n",
       "      <td>2.014640e+10</td>\n",
       "      <td>2.049713e+10</td>\n",
       "      <td>1.913421e+10</td>\n",
       "      <td>1.811656e+10</td>\n",
       "      <td>1.875347e+10</td>\n",
       "      <td>1.805323e+10</td>\n",
       "      <td>1.879945e+10</td>\n",
       "      <td>2.011614e+10</td>\n",
       "    </tr>\n",
       "    <tr>\n",
       "      <th>3</th>\n",
       "      <td>Africa Western and Central</td>\n",
       "      <td>AFW</td>\n",
       "      <td>GDP (current US$)</td>\n",
       "      <td>NY.GDP.MKTP.CD</td>\n",
       "      <td>1.040428e+10</td>\n",
       "      <td>1.112805e+10</td>\n",
       "      <td>1.194335e+10</td>\n",
       "      <td>1.267652e+10</td>\n",
       "      <td>1.383858e+10</td>\n",
       "      <td>1.486247e+10</td>\n",
       "      <td>...</td>\n",
       "      <td>6.709630e+11</td>\n",
       "      <td>7.275710e+11</td>\n",
       "      <td>8.207880e+11</td>\n",
       "      <td>8.514870e+11</td>\n",
       "      <td>7.607300e+11</td>\n",
       "      <td>6.905430e+11</td>\n",
       "      <td>6.837420e+11</td>\n",
       "      <td>7.416920e+11</td>\n",
       "      <td>7.945720e+11</td>\n",
       "      <td>7.845880e+11</td>\n",
       "    </tr>\n",
       "    <tr>\n",
       "      <th>4</th>\n",
       "      <td>Angola</td>\n",
       "      <td>AGO</td>\n",
       "      <td>GDP (current US$)</td>\n",
       "      <td>NY.GDP.MKTP.CD</td>\n",
       "      <td>NaN</td>\n",
       "      <td>NaN</td>\n",
       "      <td>NaN</td>\n",
       "      <td>NaN</td>\n",
       "      <td>NaN</td>\n",
       "      <td>NaN</td>\n",
       "      <td>...</td>\n",
       "      <td>1.117900e+11</td>\n",
       "      <td>1.280530e+11</td>\n",
       "      <td>1.367100e+11</td>\n",
       "      <td>1.457120e+11</td>\n",
       "      <td>1.161940e+11</td>\n",
       "      <td>1.011240e+11</td>\n",
       "      <td>1.221240e+11</td>\n",
       "      <td>1.013530e+11</td>\n",
       "      <td>8.941719e+10</td>\n",
       "      <td>5.837598e+10</td>\n",
       "    </tr>\n",
       "  </tbody>\n",
       "</table>\n",
       "<p>5 rows × 65 columns</p>\n",
       "</div>"
      ],
      "text/plain": [
       "                  Country Name Country Code     Indicator Name  \\\n",
       "0                        Aruba          ABW  GDP (current US$)   \n",
       "1  Africa Eastern and Southern          AFE  GDP (current US$)   \n",
       "2                  Afghanistan          AFG  GDP (current US$)   \n",
       "3   Africa Western and Central          AFW  GDP (current US$)   \n",
       "4                       Angola          AGO  GDP (current US$)   \n",
       "\n",
       "   Indicator Code          1960          1961          1962          1963  \\\n",
       "0  NY.GDP.MKTP.CD           NaN           NaN           NaN           NaN   \n",
       "1  NY.GDP.MKTP.CD  1.929944e+10  1.970954e+10  2.147872e+10  2.571501e+10   \n",
       "2  NY.GDP.MKTP.CD  5.377778e+08  5.488889e+08  5.466667e+08  7.511112e+08   \n",
       "3  NY.GDP.MKTP.CD  1.040428e+10  1.112805e+10  1.194335e+10  1.267652e+10   \n",
       "4  NY.GDP.MKTP.CD           NaN           NaN           NaN           NaN   \n",
       "\n",
       "           1964          1965  ...          2011          2012          2013  \\\n",
       "0           NaN           NaN  ...  2.549721e+09  2.534637e+09  2.727850e+09   \n",
       "1  2.351080e+10  2.679160e+10  ...  9.427110e+11  9.498490e+11  9.635600e+11   \n",
       "2  8.000000e+08  1.006667e+09  ...  1.780511e+10  1.990732e+10  2.014640e+10   \n",
       "3  1.383858e+10  1.486247e+10  ...  6.709630e+11  7.275710e+11  8.207880e+11   \n",
       "4           NaN           NaN  ...  1.117900e+11  1.280530e+11  1.367100e+11   \n",
       "\n",
       "           2014          2015          2016          2017          2018  \\\n",
       "0  2.790849e+09  2.962905e+09  2.983637e+09  3.092430e+09  3.202189e+09   \n",
       "1  9.837490e+11  9.186470e+11  8.720230e+11  9.842560e+11  1.011720e+12   \n",
       "2  2.049713e+10  1.913421e+10  1.811656e+10  1.875347e+10  1.805323e+10   \n",
       "3  8.514870e+11  7.607300e+11  6.905430e+11  6.837420e+11  7.416920e+11   \n",
       "4  1.457120e+11  1.161940e+11  1.011240e+11  1.221240e+11  1.013530e+11   \n",
       "\n",
       "           2019          2020  \n",
       "0           NaN           NaN  \n",
       "1  1.008380e+12  9.188150e+11  \n",
       "2  1.879945e+10  2.011614e+10  \n",
       "3  7.945720e+11  7.845880e+11  \n",
       "4  8.941719e+10  5.837598e+10  \n",
       "\n",
       "[5 rows x 65 columns]"
      ]
     },
     "execution_count": 4,
     "metadata": {},
     "output_type": "execute_result"
    }
   ],
   "source": [
    "df1.head()"
   ]
  },
  {
   "cell_type": "code",
   "execution_count": 5,
   "metadata": {},
   "outputs": [
    {
     "data": {
      "text/html": [
       "<div>\n",
       "<style scoped>\n",
       "    .dataframe tbody tr th:only-of-type {\n",
       "        vertical-align: middle;\n",
       "    }\n",
       "\n",
       "    .dataframe tbody tr th {\n",
       "        vertical-align: top;\n",
       "    }\n",
       "\n",
       "    .dataframe thead th {\n",
       "        text-align: right;\n",
       "    }\n",
       "</style>\n",
       "<table border=\"1\" class=\"dataframe\">\n",
       "  <thead>\n",
       "    <tr style=\"text-align: right;\">\n",
       "      <th></th>\n",
       "      <th>Country Name</th>\n",
       "      <th>Country Code</th>\n",
       "      <th>Series Name</th>\n",
       "      <th>Series Code</th>\n",
       "      <th>1960</th>\n",
       "      <th>1961</th>\n",
       "      <th>1962</th>\n",
       "      <th>1963</th>\n",
       "      <th>1964</th>\n",
       "      <th>1965</th>\n",
       "      <th>...</th>\n",
       "      <th>2012</th>\n",
       "      <th>2013</th>\n",
       "      <th>2014</th>\n",
       "      <th>2015</th>\n",
       "      <th>2016</th>\n",
       "      <th>2017</th>\n",
       "      <th>2018</th>\n",
       "      <th>2019</th>\n",
       "      <th>2020</th>\n",
       "      <th>2021</th>\n",
       "    </tr>\n",
       "  </thead>\n",
       "  <tbody>\n",
       "    <tr>\n",
       "      <th>0</th>\n",
       "      <td>Aruba</td>\n",
       "      <td>ABW</td>\n",
       "      <td>Population, total</td>\n",
       "      <td>SP.POP.TOTL</td>\n",
       "      <td>54211</td>\n",
       "      <td>55438</td>\n",
       "      <td>56225</td>\n",
       "      <td>56695</td>\n",
       "      <td>57032</td>\n",
       "      <td>57360</td>\n",
       "      <td>...</td>\n",
       "      <td>102560</td>\n",
       "      <td>103159</td>\n",
       "      <td>103774</td>\n",
       "      <td>104341</td>\n",
       "      <td>104872</td>\n",
       "      <td>105366</td>\n",
       "      <td>105845</td>\n",
       "      <td>106314</td>\n",
       "      <td>NaN</td>\n",
       "      <td>NaN</td>\n",
       "    </tr>\n",
       "    <tr>\n",
       "      <th>1</th>\n",
       "      <td>Afghanistan</td>\n",
       "      <td>AFG</td>\n",
       "      <td>Population, total</td>\n",
       "      <td>SP.POP.TOTL</td>\n",
       "      <td>8996967</td>\n",
       "      <td>9169406</td>\n",
       "      <td>9351442</td>\n",
       "      <td>9543200</td>\n",
       "      <td>9744772</td>\n",
       "      <td>9956318</td>\n",
       "      <td>...</td>\n",
       "      <td>31161378</td>\n",
       "      <td>32269592</td>\n",
       "      <td>33370804</td>\n",
       "      <td>34413603</td>\n",
       "      <td>35383028</td>\n",
       "      <td>36296111</td>\n",
       "      <td>37171922</td>\n",
       "      <td>38041757</td>\n",
       "      <td>38928341</td>\n",
       "      <td>39835000</td>\n",
       "    </tr>\n",
       "    <tr>\n",
       "      <th>2</th>\n",
       "      <td>Africa Eastern and Southern</td>\n",
       "      <td>AFE</td>\n",
       "      <td>Population, total</td>\n",
       "      <td>SP.POP.TOTL</td>\n",
       "      <td>130836765</td>\n",
       "      <td>134159786</td>\n",
       "      <td>137614644</td>\n",
       "      <td>141202036</td>\n",
       "      <td>144920186</td>\n",
       "      <td>148769974</td>\n",
       "      <td>...</td>\n",
       "      <td>547482863</td>\n",
       "      <td>562601578</td>\n",
       "      <td>578075373</td>\n",
       "      <td>593871847</td>\n",
       "      <td>609978946</td>\n",
       "      <td>626392880</td>\n",
       "      <td>643090131</td>\n",
       "      <td>660046272</td>\n",
       "      <td>677243299</td>\n",
       "      <td>694664000</td>\n",
       "    </tr>\n",
       "    <tr>\n",
       "      <th>3</th>\n",
       "      <td>Africa Western and Central</td>\n",
       "      <td>AFW</td>\n",
       "      <td>Population, total</td>\n",
       "      <td>SP.POP.TOTL</td>\n",
       "      <td>96396419</td>\n",
       "      <td>98407221</td>\n",
       "      <td>100506960</td>\n",
       "      <td>102691339</td>\n",
       "      <td>104953470</td>\n",
       "      <td>107289875</td>\n",
       "      <td>...</td>\n",
       "      <td>370243017</td>\n",
       "      <td>380437896</td>\n",
       "      <td>390882979</td>\n",
       "      <td>401586651</td>\n",
       "      <td>412551299</td>\n",
       "      <td>423769930</td>\n",
       "      <td>435229381</td>\n",
       "      <td>446911598</td>\n",
       "      <td>458803476</td>\n",
       "      <td>470898000</td>\n",
       "    </tr>\n",
       "    <tr>\n",
       "      <th>4</th>\n",
       "      <td>Albania</td>\n",
       "      <td>ALB</td>\n",
       "      <td>Population, total</td>\n",
       "      <td>SP.POP.TOTL</td>\n",
       "      <td>1608800</td>\n",
       "      <td>1659800</td>\n",
       "      <td>1711319</td>\n",
       "      <td>1762621</td>\n",
       "      <td>1814135</td>\n",
       "      <td>1864791</td>\n",
       "      <td>...</td>\n",
       "      <td>2900401</td>\n",
       "      <td>2895092</td>\n",
       "      <td>2889104</td>\n",
       "      <td>2880703</td>\n",
       "      <td>2876101</td>\n",
       "      <td>2873457</td>\n",
       "      <td>2866376</td>\n",
       "      <td>2854191</td>\n",
       "      <td>2837743</td>\n",
       "      <td>2832000</td>\n",
       "    </tr>\n",
       "  </tbody>\n",
       "</table>\n",
       "<p>5 rows × 66 columns</p>\n",
       "</div>"
      ],
      "text/plain": [
       "                  Country Name Country Code        Series Name  Series Code  \\\n",
       "0                        Aruba          ABW  Population, total  SP.POP.TOTL   \n",
       "1                  Afghanistan          AFG  Population, total  SP.POP.TOTL   \n",
       "2  Africa Eastern and Southern          AFE  Population, total  SP.POP.TOTL   \n",
       "3   Africa Western and Central          AFW  Population, total  SP.POP.TOTL   \n",
       "4                      Albania          ALB  Population, total  SP.POP.TOTL   \n",
       "\n",
       "        1960       1961       1962       1963       1964       1965  ...  \\\n",
       "0      54211      55438      56225      56695      57032      57360  ...   \n",
       "1    8996967    9169406    9351442    9543200    9744772    9956318  ...   \n",
       "2  130836765  134159786  137614644  141202036  144920186  148769974  ...   \n",
       "3   96396419   98407221  100506960  102691339  104953470  107289875  ...   \n",
       "4    1608800    1659800    1711319    1762621    1814135    1864791  ...   \n",
       "\n",
       "        2012       2013       2014       2015       2016       2017  \\\n",
       "0     102560     103159     103774     104341     104872     105366   \n",
       "1   31161378   32269592   33370804   34413603   35383028   36296111   \n",
       "2  547482863  562601578  578075373  593871847  609978946  626392880   \n",
       "3  370243017  380437896  390882979  401586651  412551299  423769930   \n",
       "4    2900401    2895092    2889104    2880703    2876101    2873457   \n",
       "\n",
       "        2018       2019       2020       2021  \n",
       "0     105845     106314        NaN        NaN  \n",
       "1   37171922   38041757   38928341   39835000  \n",
       "2  643090131  660046272  677243299  694664000  \n",
       "3  435229381  446911598  458803476  470898000  \n",
       "4    2866376    2854191    2837743    2832000  \n",
       "\n",
       "[5 rows x 66 columns]"
      ]
     },
     "execution_count": 5,
     "metadata": {},
     "output_type": "execute_result"
    }
   ],
   "source": [
    "df2.head()"
   ]
  },
  {
   "cell_type": "code",
   "execution_count": 6,
   "metadata": {},
   "outputs": [
    {
     "data": {
      "text/plain": [
       "Index(['Country Name', 'Country Code', 'Indicator Name', 'Indicator Code',\n",
       "       '1960', '1961', '1962', '1963', '1964', '1965', '1966', '1967', '1968',\n",
       "       '1969', '1970', '1971', '1972', '1973', '1974', '1975', '1976', '1977',\n",
       "       '1978', '1979', '1980', '1981', '1982', '1983', '1984', '1985', '1986',\n",
       "       '1987', '1988', '1989', '1990', '1991', '1992', '1993', '1994', '1995',\n",
       "       '1996', '1997', '1998', '1999', '2000', '2001', '2002', '2003', '2004',\n",
       "       '2005', '2006', '2007', '2008', '2009', '2010', '2011', '2012', '2013',\n",
       "       '2014', '2015', '2016', '2017', '2018', '2019', '2020'],\n",
       "      dtype='object')"
      ]
     },
     "execution_count": 6,
     "metadata": {},
     "output_type": "execute_result"
    }
   ],
   "source": [
    "df1.columns"
   ]
  },
  {
   "cell_type": "code",
   "execution_count": 7,
   "metadata": {},
   "outputs": [
    {
     "data": {
      "text/plain": [
       "Index(['Country Name', 'Country Code', 'Series Name', 'Series Code', '1960',\n",
       "       '1961', '1962', '1963', '1964', '1965', '1966', '1967', '1968', '1969',\n",
       "       '1970', '1971', '1972', '1973', '1974', '1975', '1976', '1977', '1978',\n",
       "       '1979', '1980', '1981', '1982', '1983', '1984', '1985', '1986', '1987',\n",
       "       '1988', '1989', '1990', '1991', '1992', '1993', '1994', '1995', '1996',\n",
       "       '1997', '1998', '1999', '2000', '2001', '2002', '2003', '2004', '2005',\n",
       "       '2006', '2007', '2008', '2009', '2010', '2011', '2012', '2013', '2014',\n",
       "       '2015', '2016', '2017', '2018', '2019', '2020', '2021'],\n",
       "      dtype='object')"
      ]
     },
     "execution_count": 7,
     "metadata": {},
     "output_type": "execute_result"
    }
   ],
   "source": [
    "df2.columns"
   ]
  },
  {
   "cell_type": "code",
   "execution_count": 8,
   "metadata": {},
   "outputs": [],
   "source": [
    "# Filter relevant columns\n",
    "df1 = df1[['Country Name'] + [str(year) for year in range(2001, 2020)]]\n",
    "df2 = df2[['Country Name'] + [str(year) for year in range(2001, 2020)]]"
   ]
  },
  {
   "cell_type": "code",
   "execution_count": 9,
   "metadata": {},
   "outputs": [
    {
     "data": {
      "text/html": [
       "<div>\n",
       "<style scoped>\n",
       "    .dataframe tbody tr th:only-of-type {\n",
       "        vertical-align: middle;\n",
       "    }\n",
       "\n",
       "    .dataframe tbody tr th {\n",
       "        vertical-align: top;\n",
       "    }\n",
       "\n",
       "    .dataframe thead th {\n",
       "        text-align: right;\n",
       "    }\n",
       "</style>\n",
       "<table border=\"1\" class=\"dataframe\">\n",
       "  <thead>\n",
       "    <tr style=\"text-align: right;\">\n",
       "      <th></th>\n",
       "      <th>Country Name</th>\n",
       "      <th>2001</th>\n",
       "      <th>2002</th>\n",
       "      <th>2003</th>\n",
       "      <th>2004</th>\n",
       "      <th>2005</th>\n",
       "      <th>2006</th>\n",
       "      <th>2007</th>\n",
       "      <th>2008</th>\n",
       "      <th>2009</th>\n",
       "      <th>2010</th>\n",
       "      <th>2011</th>\n",
       "      <th>2012</th>\n",
       "      <th>2013</th>\n",
       "      <th>2014</th>\n",
       "      <th>2015</th>\n",
       "      <th>2016</th>\n",
       "      <th>2017</th>\n",
       "      <th>2018</th>\n",
       "      <th>2019</th>\n",
       "    </tr>\n",
       "  </thead>\n",
       "  <tbody>\n",
       "    <tr>\n",
       "      <th>0</th>\n",
       "      <td>Aruba</td>\n",
       "      <td>1.920112e+09</td>\n",
       "      <td>1.941341e+09</td>\n",
       "      <td>2.021229e+09</td>\n",
       "      <td>2.228492e+09</td>\n",
       "      <td>2.330726e+09</td>\n",
       "      <td>2.424581e+09</td>\n",
       "      <td>2.615084e+09</td>\n",
       "      <td>2.745251e+09</td>\n",
       "      <td>2.498883e+09</td>\n",
       "      <td>2.390503e+09</td>\n",
       "      <td>2.549721e+09</td>\n",
       "      <td>2.534637e+09</td>\n",
       "      <td>2.727850e+09</td>\n",
       "      <td>2.790849e+09</td>\n",
       "      <td>2.962905e+09</td>\n",
       "      <td>2.983637e+09</td>\n",
       "      <td>3.092430e+09</td>\n",
       "      <td>3.202189e+09</td>\n",
       "      <td>NaN</td>\n",
       "    </tr>\n",
       "    <tr>\n",
       "      <th>1</th>\n",
       "      <td>Africa Eastern and Southern</td>\n",
       "      <td>2.586600e+11</td>\n",
       "      <td>2.647080e+11</td>\n",
       "      <td>3.524430e+11</td>\n",
       "      <td>4.385650e+11</td>\n",
       "      <td>5.118980e+11</td>\n",
       "      <td>5.755690e+11</td>\n",
       "      <td>6.607740e+11</td>\n",
       "      <td>7.078530e+11</td>\n",
       "      <td>7.120540e+11</td>\n",
       "      <td>8.468100e+11</td>\n",
       "      <td>9.427110e+11</td>\n",
       "      <td>9.498490e+11</td>\n",
       "      <td>9.635600e+11</td>\n",
       "      <td>9.837490e+11</td>\n",
       "      <td>9.186470e+11</td>\n",
       "      <td>8.720230e+11</td>\n",
       "      <td>9.842560e+11</td>\n",
       "      <td>1.011720e+12</td>\n",
       "      <td>1.008380e+12</td>\n",
       "    </tr>\n",
       "    <tr>\n",
       "      <th>2</th>\n",
       "      <td>Afghanistan</td>\n",
       "      <td>NaN</td>\n",
       "      <td>4.055180e+09</td>\n",
       "      <td>4.515559e+09</td>\n",
       "      <td>5.226779e+09</td>\n",
       "      <td>6.209138e+09</td>\n",
       "      <td>6.971286e+09</td>\n",
       "      <td>9.747880e+09</td>\n",
       "      <td>1.010931e+10</td>\n",
       "      <td>1.241616e+10</td>\n",
       "      <td>1.585668e+10</td>\n",
       "      <td>1.780511e+10</td>\n",
       "      <td>1.990732e+10</td>\n",
       "      <td>2.014640e+10</td>\n",
       "      <td>2.049713e+10</td>\n",
       "      <td>1.913421e+10</td>\n",
       "      <td>1.811656e+10</td>\n",
       "      <td>1.875347e+10</td>\n",
       "      <td>1.805323e+10</td>\n",
       "      <td>1.879945e+10</td>\n",
       "    </tr>\n",
       "    <tr>\n",
       "      <th>3</th>\n",
       "      <td>Africa Western and Central</td>\n",
       "      <td>1.480120e+11</td>\n",
       "      <td>1.769330e+11</td>\n",
       "      <td>2.046420e+11</td>\n",
       "      <td>2.540900e+11</td>\n",
       "      <td>3.105540e+11</td>\n",
       "      <td>3.932970e+11</td>\n",
       "      <td>4.617780e+11</td>\n",
       "      <td>5.664260e+11</td>\n",
       "      <td>5.069960e+11</td>\n",
       "      <td>5.915830e+11</td>\n",
       "      <td>6.709630e+11</td>\n",
       "      <td>7.275710e+11</td>\n",
       "      <td>8.207880e+11</td>\n",
       "      <td>8.514870e+11</td>\n",
       "      <td>7.607300e+11</td>\n",
       "      <td>6.905430e+11</td>\n",
       "      <td>6.837420e+11</td>\n",
       "      <td>7.416920e+11</td>\n",
       "      <td>7.945720e+11</td>\n",
       "    </tr>\n",
       "    <tr>\n",
       "      <th>4</th>\n",
       "      <td>Angola</td>\n",
       "      <td>8.936064e+09</td>\n",
       "      <td>1.528559e+10</td>\n",
       "      <td>1.781271e+10</td>\n",
       "      <td>2.355205e+10</td>\n",
       "      <td>3.697092e+10</td>\n",
       "      <td>5.238101e+10</td>\n",
       "      <td>6.526645e+10</td>\n",
       "      <td>8.853861e+10</td>\n",
       "      <td>7.030716e+10</td>\n",
       "      <td>8.379950e+10</td>\n",
       "      <td>1.117900e+11</td>\n",
       "      <td>1.280530e+11</td>\n",
       "      <td>1.367100e+11</td>\n",
       "      <td>1.457120e+11</td>\n",
       "      <td>1.161940e+11</td>\n",
       "      <td>1.011240e+11</td>\n",
       "      <td>1.221240e+11</td>\n",
       "      <td>1.013530e+11</td>\n",
       "      <td>8.941719e+10</td>\n",
       "    </tr>\n",
       "  </tbody>\n",
       "</table>\n",
       "</div>"
      ],
      "text/plain": [
       "                  Country Name          2001          2002          2003  \\\n",
       "0                        Aruba  1.920112e+09  1.941341e+09  2.021229e+09   \n",
       "1  Africa Eastern and Southern  2.586600e+11  2.647080e+11  3.524430e+11   \n",
       "2                  Afghanistan           NaN  4.055180e+09  4.515559e+09   \n",
       "3   Africa Western and Central  1.480120e+11  1.769330e+11  2.046420e+11   \n",
       "4                       Angola  8.936064e+09  1.528559e+10  1.781271e+10   \n",
       "\n",
       "           2004          2005          2006          2007          2008  \\\n",
       "0  2.228492e+09  2.330726e+09  2.424581e+09  2.615084e+09  2.745251e+09   \n",
       "1  4.385650e+11  5.118980e+11  5.755690e+11  6.607740e+11  7.078530e+11   \n",
       "2  5.226779e+09  6.209138e+09  6.971286e+09  9.747880e+09  1.010931e+10   \n",
       "3  2.540900e+11  3.105540e+11  3.932970e+11  4.617780e+11  5.664260e+11   \n",
       "4  2.355205e+10  3.697092e+10  5.238101e+10  6.526645e+10  8.853861e+10   \n",
       "\n",
       "           2009          2010          2011          2012          2013  \\\n",
       "0  2.498883e+09  2.390503e+09  2.549721e+09  2.534637e+09  2.727850e+09   \n",
       "1  7.120540e+11  8.468100e+11  9.427110e+11  9.498490e+11  9.635600e+11   \n",
       "2  1.241616e+10  1.585668e+10  1.780511e+10  1.990732e+10  2.014640e+10   \n",
       "3  5.069960e+11  5.915830e+11  6.709630e+11  7.275710e+11  8.207880e+11   \n",
       "4  7.030716e+10  8.379950e+10  1.117900e+11  1.280530e+11  1.367100e+11   \n",
       "\n",
       "           2014          2015          2016          2017          2018  \\\n",
       "0  2.790849e+09  2.962905e+09  2.983637e+09  3.092430e+09  3.202189e+09   \n",
       "1  9.837490e+11  9.186470e+11  8.720230e+11  9.842560e+11  1.011720e+12   \n",
       "2  2.049713e+10  1.913421e+10  1.811656e+10  1.875347e+10  1.805323e+10   \n",
       "3  8.514870e+11  7.607300e+11  6.905430e+11  6.837420e+11  7.416920e+11   \n",
       "4  1.457120e+11  1.161940e+11  1.011240e+11  1.221240e+11  1.013530e+11   \n",
       "\n",
       "           2019  \n",
       "0           NaN  \n",
       "1  1.008380e+12  \n",
       "2  1.879945e+10  \n",
       "3  7.945720e+11  \n",
       "4  8.941719e+10  "
      ]
     },
     "execution_count": 9,
     "metadata": {},
     "output_type": "execute_result"
    }
   ],
   "source": [
    "df1.head()"
   ]
  },
  {
   "cell_type": "code",
   "execution_count": 10,
   "metadata": {},
   "outputs": [
    {
     "data": {
      "text/html": [
       "<div>\n",
       "<style scoped>\n",
       "    .dataframe tbody tr th:only-of-type {\n",
       "        vertical-align: middle;\n",
       "    }\n",
       "\n",
       "    .dataframe tbody tr th {\n",
       "        vertical-align: top;\n",
       "    }\n",
       "\n",
       "    .dataframe thead th {\n",
       "        text-align: right;\n",
       "    }\n",
       "</style>\n",
       "<table border=\"1\" class=\"dataframe\">\n",
       "  <thead>\n",
       "    <tr style=\"text-align: right;\">\n",
       "      <th></th>\n",
       "      <th>Country Name</th>\n",
       "      <th>2001</th>\n",
       "      <th>2002</th>\n",
       "      <th>2003</th>\n",
       "      <th>2004</th>\n",
       "      <th>2005</th>\n",
       "      <th>2006</th>\n",
       "      <th>2007</th>\n",
       "      <th>2008</th>\n",
       "      <th>2009</th>\n",
       "      <th>2010</th>\n",
       "      <th>2011</th>\n",
       "      <th>2012</th>\n",
       "      <th>2013</th>\n",
       "      <th>2014</th>\n",
       "      <th>2015</th>\n",
       "      <th>2016</th>\n",
       "      <th>2017</th>\n",
       "      <th>2018</th>\n",
       "      <th>2019</th>\n",
       "    </tr>\n",
       "  </thead>\n",
       "  <tbody>\n",
       "    <tr>\n",
       "      <th>0</th>\n",
       "      <td>Aruba</td>\n",
       "      <td>92898</td>\n",
       "      <td>94992</td>\n",
       "      <td>97017</td>\n",
       "      <td>98737</td>\n",
       "      <td>100031</td>\n",
       "      <td>100834</td>\n",
       "      <td>101222</td>\n",
       "      <td>101358</td>\n",
       "      <td>101455</td>\n",
       "      <td>101669</td>\n",
       "      <td>102046</td>\n",
       "      <td>102560</td>\n",
       "      <td>103159</td>\n",
       "      <td>103774</td>\n",
       "      <td>104341</td>\n",
       "      <td>104872</td>\n",
       "      <td>105366</td>\n",
       "      <td>105845</td>\n",
       "      <td>106314</td>\n",
       "    </tr>\n",
       "    <tr>\n",
       "      <th>1</th>\n",
       "      <td>Afghanistan</td>\n",
       "      <td>21606992</td>\n",
       "      <td>22600774</td>\n",
       "      <td>23680871</td>\n",
       "      <td>24726689</td>\n",
       "      <td>25654274</td>\n",
       "      <td>26433058</td>\n",
       "      <td>27100542</td>\n",
       "      <td>27722281</td>\n",
       "      <td>28394806</td>\n",
       "      <td>29185511</td>\n",
       "      <td>30117411</td>\n",
       "      <td>31161378</td>\n",
       "      <td>32269592</td>\n",
       "      <td>33370804</td>\n",
       "      <td>34413603</td>\n",
       "      <td>35383028</td>\n",
       "      <td>36296111</td>\n",
       "      <td>37171922</td>\n",
       "      <td>38041757</td>\n",
       "    </tr>\n",
       "    <tr>\n",
       "      <th>2</th>\n",
       "      <td>Africa Eastern and Southern</td>\n",
       "      <td>408522129</td>\n",
       "      <td>419223717</td>\n",
       "      <td>430246635</td>\n",
       "      <td>441630149</td>\n",
       "      <td>453404076</td>\n",
       "      <td>465581372</td>\n",
       "      <td>478166911</td>\n",
       "      <td>491173160</td>\n",
       "      <td>504604672</td>\n",
       "      <td>518468229</td>\n",
       "      <td>532760424</td>\n",
       "      <td>547482863</td>\n",
       "      <td>562601578</td>\n",
       "      <td>578075373</td>\n",
       "      <td>593871847</td>\n",
       "      <td>609978946</td>\n",
       "      <td>626392880</td>\n",
       "      <td>643090131</td>\n",
       "      <td>660046272</td>\n",
       "    </tr>\n",
       "    <tr>\n",
       "      <th>3</th>\n",
       "      <td>Africa Western and Central</td>\n",
       "      <td>274433894</td>\n",
       "      <td>281842480</td>\n",
       "      <td>289469530</td>\n",
       "      <td>297353098</td>\n",
       "      <td>305520588</td>\n",
       "      <td>313985474</td>\n",
       "      <td>322741656</td>\n",
       "      <td>331772330</td>\n",
       "      <td>341050537</td>\n",
       "      <td>350556886</td>\n",
       "      <td>360285439</td>\n",
       "      <td>370243017</td>\n",
       "      <td>380437896</td>\n",
       "      <td>390882979</td>\n",
       "      <td>401586651</td>\n",
       "      <td>412551299</td>\n",
       "      <td>423769930</td>\n",
       "      <td>435229381</td>\n",
       "      <td>446911598</td>\n",
       "    </tr>\n",
       "    <tr>\n",
       "      <th>4</th>\n",
       "      <td>Albania</td>\n",
       "      <td>3060173</td>\n",
       "      <td>3051010</td>\n",
       "      <td>3039616</td>\n",
       "      <td>3026939</td>\n",
       "      <td>3011487</td>\n",
       "      <td>2992547</td>\n",
       "      <td>2970017</td>\n",
       "      <td>2947314</td>\n",
       "      <td>2927519</td>\n",
       "      <td>2913021</td>\n",
       "      <td>2905195</td>\n",
       "      <td>2900401</td>\n",
       "      <td>2895092</td>\n",
       "      <td>2889104</td>\n",
       "      <td>2880703</td>\n",
       "      <td>2876101</td>\n",
       "      <td>2873457</td>\n",
       "      <td>2866376</td>\n",
       "      <td>2854191</td>\n",
       "    </tr>\n",
       "  </tbody>\n",
       "</table>\n",
       "</div>"
      ],
      "text/plain": [
       "                  Country Name       2001       2002       2003       2004  \\\n",
       "0                        Aruba      92898      94992      97017      98737   \n",
       "1                  Afghanistan   21606992   22600774   23680871   24726689   \n",
       "2  Africa Eastern and Southern  408522129  419223717  430246635  441630149   \n",
       "3   Africa Western and Central  274433894  281842480  289469530  297353098   \n",
       "4                      Albania    3060173    3051010    3039616    3026939   \n",
       "\n",
       "        2005       2006       2007       2008       2009       2010  \\\n",
       "0     100031     100834     101222     101358     101455     101669   \n",
       "1   25654274   26433058   27100542   27722281   28394806   29185511   \n",
       "2  453404076  465581372  478166911  491173160  504604672  518468229   \n",
       "3  305520588  313985474  322741656  331772330  341050537  350556886   \n",
       "4    3011487    2992547    2970017    2947314    2927519    2913021   \n",
       "\n",
       "        2011       2012       2013       2014       2015       2016  \\\n",
       "0     102046     102560     103159     103774     104341     104872   \n",
       "1   30117411   31161378   32269592   33370804   34413603   35383028   \n",
       "2  532760424  547482863  562601578  578075373  593871847  609978946   \n",
       "3  360285439  370243017  380437896  390882979  401586651  412551299   \n",
       "4    2905195    2900401    2895092    2889104    2880703    2876101   \n",
       "\n",
       "        2017       2018       2019  \n",
       "0     105366     105845     106314  \n",
       "1   36296111   37171922   38041757  \n",
       "2  626392880  643090131  660046272  \n",
       "3  423769930  435229381  446911598  \n",
       "4    2873457    2866376    2854191  "
      ]
     },
     "execution_count": 10,
     "metadata": {},
     "output_type": "execute_result"
    }
   ],
   "source": [
    "df2.head()"
   ]
  },
  {
   "cell_type": "code",
   "execution_count": 11,
   "metadata": {},
   "outputs": [],
   "source": [
    "df1_melted = df1.melt(id_vars=['Country Name'], var_name='Year', value_name='GDP')\n",
    "df2_melted = df2.melt(id_vars=['Country Name'], var_name='Year', value_name='Population')"
   ]
  },
  {
   "cell_type": "markdown",
   "metadata": {},
   "source": [
    "The melt function will pivot the datafram from wide to long. The first parameter 'id_vars' is for the column that will remain unchangend. The 'var_name' is for the new variable column.)"
   ]
  },
  {
   "cell_type": "code",
   "execution_count": 12,
   "metadata": {},
   "outputs": [
    {
     "data": {
      "text/html": [
       "<div>\n",
       "<style scoped>\n",
       "    .dataframe tbody tr th:only-of-type {\n",
       "        vertical-align: middle;\n",
       "    }\n",
       "\n",
       "    .dataframe tbody tr th {\n",
       "        vertical-align: top;\n",
       "    }\n",
       "\n",
       "    .dataframe thead th {\n",
       "        text-align: right;\n",
       "    }\n",
       "</style>\n",
       "<table border=\"1\" class=\"dataframe\">\n",
       "  <thead>\n",
       "    <tr style=\"text-align: right;\">\n",
       "      <th></th>\n",
       "      <th>Country Name</th>\n",
       "      <th>Year</th>\n",
       "      <th>GDP</th>\n",
       "    </tr>\n",
       "  </thead>\n",
       "  <tbody>\n",
       "    <tr>\n",
       "      <th>0</th>\n",
       "      <td>Aruba</td>\n",
       "      <td>2001</td>\n",
       "      <td>1.920112e+09</td>\n",
       "    </tr>\n",
       "    <tr>\n",
       "      <th>1</th>\n",
       "      <td>Africa Eastern and Southern</td>\n",
       "      <td>2001</td>\n",
       "      <td>2.586600e+11</td>\n",
       "    </tr>\n",
       "    <tr>\n",
       "      <th>2</th>\n",
       "      <td>Afghanistan</td>\n",
       "      <td>2001</td>\n",
       "      <td>NaN</td>\n",
       "    </tr>\n",
       "    <tr>\n",
       "      <th>3</th>\n",
       "      <td>Africa Western and Central</td>\n",
       "      <td>2001</td>\n",
       "      <td>1.480120e+11</td>\n",
       "    </tr>\n",
       "    <tr>\n",
       "      <th>4</th>\n",
       "      <td>Angola</td>\n",
       "      <td>2001</td>\n",
       "      <td>8.936064e+09</td>\n",
       "    </tr>\n",
       "  </tbody>\n",
       "</table>\n",
       "</div>"
      ],
      "text/plain": [
       "                  Country Name  Year           GDP\n",
       "0                        Aruba  2001  1.920112e+09\n",
       "1  Africa Eastern and Southern  2001  2.586600e+11\n",
       "2                  Afghanistan  2001           NaN\n",
       "3   Africa Western and Central  2001  1.480120e+11\n",
       "4                       Angola  2001  8.936064e+09"
      ]
     },
     "execution_count": 12,
     "metadata": {},
     "output_type": "execute_result"
    }
   ],
   "source": [
    "df1_melted.head()"
   ]
  },
  {
   "cell_type": "code",
   "execution_count": 13,
   "metadata": {},
   "outputs": [
    {
     "data": {
      "text/html": [
       "<div>\n",
       "<style scoped>\n",
       "    .dataframe tbody tr th:only-of-type {\n",
       "        vertical-align: middle;\n",
       "    }\n",
       "\n",
       "    .dataframe tbody tr th {\n",
       "        vertical-align: top;\n",
       "    }\n",
       "\n",
       "    .dataframe thead th {\n",
       "        text-align: right;\n",
       "    }\n",
       "</style>\n",
       "<table border=\"1\" class=\"dataframe\">\n",
       "  <thead>\n",
       "    <tr style=\"text-align: right;\">\n",
       "      <th></th>\n",
       "      <th>Country Name</th>\n",
       "      <th>Year</th>\n",
       "      <th>Population</th>\n",
       "    </tr>\n",
       "  </thead>\n",
       "  <tbody>\n",
       "    <tr>\n",
       "      <th>0</th>\n",
       "      <td>Aruba</td>\n",
       "      <td>2001</td>\n",
       "      <td>92898</td>\n",
       "    </tr>\n",
       "    <tr>\n",
       "      <th>1</th>\n",
       "      <td>Afghanistan</td>\n",
       "      <td>2001</td>\n",
       "      <td>21606992</td>\n",
       "    </tr>\n",
       "    <tr>\n",
       "      <th>2</th>\n",
       "      <td>Africa Eastern and Southern</td>\n",
       "      <td>2001</td>\n",
       "      <td>408522129</td>\n",
       "    </tr>\n",
       "    <tr>\n",
       "      <th>3</th>\n",
       "      <td>Africa Western and Central</td>\n",
       "      <td>2001</td>\n",
       "      <td>274433894</td>\n",
       "    </tr>\n",
       "    <tr>\n",
       "      <th>4</th>\n",
       "      <td>Albania</td>\n",
       "      <td>2001</td>\n",
       "      <td>3060173</td>\n",
       "    </tr>\n",
       "  </tbody>\n",
       "</table>\n",
       "</div>"
      ],
      "text/plain": [
       "                  Country Name  Year Population\n",
       "0                        Aruba  2001      92898\n",
       "1                  Afghanistan  2001   21606992\n",
       "2  Africa Eastern and Southern  2001  408522129\n",
       "3   Africa Western and Central  2001  274433894\n",
       "4                      Albania  2001    3060173"
      ]
     },
     "execution_count": 13,
     "metadata": {},
     "output_type": "execute_result"
    }
   ],
   "source": [
    "df2_melted.head()"
   ]
  },
  {
   "cell_type": "code",
   "execution_count": 14,
   "metadata": {},
   "outputs": [],
   "source": [
    "merged_df = pd.merge(df1_melted, df2_melted, on=['Country Name', 'Year'], how='inner')"
   ]
  },
  {
   "cell_type": "markdown",
   "metadata": {},
   "source": [
    "the 'how' parameter takes 'inner' as value to define that we only keep the rows with matching values in both df1_melted and df2_melted for the specified key columns."
   ]
  },
  {
   "cell_type": "code",
   "execution_count": 15,
   "metadata": {},
   "outputs": [
    {
     "data": {
      "text/html": [
       "<div>\n",
       "<style scoped>\n",
       "    .dataframe tbody tr th:only-of-type {\n",
       "        vertical-align: middle;\n",
       "    }\n",
       "\n",
       "    .dataframe tbody tr th {\n",
       "        vertical-align: top;\n",
       "    }\n",
       "\n",
       "    .dataframe thead th {\n",
       "        text-align: right;\n",
       "    }\n",
       "</style>\n",
       "<table border=\"1\" class=\"dataframe\">\n",
       "  <thead>\n",
       "    <tr style=\"text-align: right;\">\n",
       "      <th></th>\n",
       "      <th>Country Name</th>\n",
       "      <th>Year</th>\n",
       "      <th>GDP</th>\n",
       "      <th>Population</th>\n",
       "    </tr>\n",
       "  </thead>\n",
       "  <tbody>\n",
       "    <tr>\n",
       "      <th>0</th>\n",
       "      <td>Aruba</td>\n",
       "      <td>2001</td>\n",
       "      <td>1.920112e+09</td>\n",
       "      <td>92898</td>\n",
       "    </tr>\n",
       "    <tr>\n",
       "      <th>1</th>\n",
       "      <td>Aruba</td>\n",
       "      <td>2001</td>\n",
       "      <td>1.920112e+09</td>\n",
       "      <td>92892</td>\n",
       "    </tr>\n",
       "    <tr>\n",
       "      <th>2</th>\n",
       "      <td>Africa Eastern and Southern</td>\n",
       "      <td>2001</td>\n",
       "      <td>2.586600e+11</td>\n",
       "      <td>408522129</td>\n",
       "    </tr>\n",
       "    <tr>\n",
       "      <th>3</th>\n",
       "      <td>Afghanistan</td>\n",
       "      <td>2001</td>\n",
       "      <td>NaN</td>\n",
       "      <td>21606992</td>\n",
       "    </tr>\n",
       "    <tr>\n",
       "      <th>4</th>\n",
       "      <td>Africa Western and Central</td>\n",
       "      <td>2001</td>\n",
       "      <td>1.480120e+11</td>\n",
       "      <td>274433894</td>\n",
       "    </tr>\n",
       "  </tbody>\n",
       "</table>\n",
       "</div>"
      ],
      "text/plain": [
       "                  Country Name  Year           GDP Population\n",
       "0                        Aruba  2001  1.920112e+09      92898\n",
       "1                        Aruba  2001  1.920112e+09      92892\n",
       "2  Africa Eastern and Southern  2001  2.586600e+11  408522129\n",
       "3                  Afghanistan  2001           NaN   21606992\n",
       "4   Africa Western and Central  2001  1.480120e+11  274433894"
      ]
     },
     "execution_count": 15,
     "metadata": {},
     "output_type": "execute_result"
    }
   ],
   "source": [
    "merged_df.head()"
   ]
  },
  {
   "cell_type": "markdown",
   "metadata": {},
   "source": [
    "We notice that 'Aruba' have two rows with differents values, to visualize this , we will print the values form the original df2 dataframe considering 'Aruba' value in the 'Country Name' column. "
   ]
  },
  {
   "cell_type": "code",
   "execution_count": 16,
   "metadata": {},
   "outputs": [
    {
     "name": "stdout",
     "output_type": "stream",
     "text": [
      "   Country Name   2001   2002   2003   2004    2005    2006    2007    2008  \\\n",
      "0         Aruba  92898  94992  97017  98737  100031  100834  101222  101358   \n",
      "13        Aruba  92892  94992  97016  98744  100028  100830  101226  101362   \n",
      "\n",
      "      2009    2010    2011    2012    2013    2014    2015    2016    2017  \\\n",
      "0   101455  101669  102046  102560  103159  103774  104341  104872  105366   \n",
      "13  101452  101665  102050  102565  103165  103776  104339  104865  105361   \n",
      "\n",
      "      2018    2019  \n",
      "0   105845  106314  \n",
      "13  105846  106310  \n"
     ]
    }
   ],
   "source": [
    "aruba_rows = df2[df2['Country Name'] == 'Aruba']\n",
    "print(aruba_rows)"
   ]
  },
  {
   "cell_type": "markdown",
   "metadata": {},
   "source": [
    "We can see that we have two rows with different values ( row 0 and row 13). We can consider that row 13 include the most updated values, so we will remove the first one (row 0) ."
   ]
  },
  {
   "cell_type": "code",
   "execution_count": 17,
   "metadata": {},
   "outputs": [],
   "source": [
    "# drop the row with index 0\n",
    "df2.drop(0, inplace=True)"
   ]
  },
  {
   "cell_type": "markdown",
   "metadata": {},
   "source": [
    "We will print again the values for checking"
   ]
  },
  {
   "cell_type": "code",
   "execution_count": 18,
   "metadata": {},
   "outputs": [
    {
     "name": "stdout",
     "output_type": "stream",
     "text": [
      "   Country Name   2001   2002   2003   2004    2005    2006    2007    2008  \\\n",
      "13        Aruba  92892  94992  97016  98744  100028  100830  101226  101362   \n",
      "\n",
      "      2009    2010    2011    2012    2013    2014    2015    2016    2017  \\\n",
      "13  101452  101665  102050  102565  103165  103776  104339  104865  105361   \n",
      "\n",
      "      2018    2019  \n",
      "13  105846  106310  \n"
     ]
    }
   ],
   "source": [
    "# print the df after deleting the row\n",
    "aruba_rows = df2[df2['Country Name'] == 'Aruba']\n",
    "print(aruba_rows)"
   ]
  },
  {
   "cell_type": "markdown",
   "metadata": {},
   "source": [
    "Since we modified the values in the original df2 dataframe, so we have to re-execute the previous commands for melt and merge functions."
   ]
  },
  {
   "cell_type": "code",
   "execution_count": 19,
   "metadata": {},
   "outputs": [],
   "source": [
    "df1_melted = df1.melt(id_vars=['Country Name'], var_name='Year', value_name='GDP')\n",
    "df2_melted = df2.melt(id_vars=['Country Name'], var_name='Year', value_name='Population')"
   ]
  },
  {
   "cell_type": "code",
   "execution_count": 20,
   "metadata": {},
   "outputs": [],
   "source": [
    "merged_df = pd.merge(df1_melted, df2_melted, on=['Country Name', 'Year'], how='inner')"
   ]
  },
  {
   "cell_type": "code",
   "execution_count": 21,
   "metadata": {},
   "outputs": [
    {
     "data": {
      "text/html": [
       "<div>\n",
       "<style scoped>\n",
       "    .dataframe tbody tr th:only-of-type {\n",
       "        vertical-align: middle;\n",
       "    }\n",
       "\n",
       "    .dataframe tbody tr th {\n",
       "        vertical-align: top;\n",
       "    }\n",
       "\n",
       "    .dataframe thead th {\n",
       "        text-align: right;\n",
       "    }\n",
       "</style>\n",
       "<table border=\"1\" class=\"dataframe\">\n",
       "  <thead>\n",
       "    <tr style=\"text-align: right;\">\n",
       "      <th></th>\n",
       "      <th>Country Name</th>\n",
       "      <th>Year</th>\n",
       "      <th>GDP</th>\n",
       "      <th>Population</th>\n",
       "    </tr>\n",
       "  </thead>\n",
       "  <tbody>\n",
       "    <tr>\n",
       "      <th>0</th>\n",
       "      <td>Aruba</td>\n",
       "      <td>2001</td>\n",
       "      <td>1.920112e+09</td>\n",
       "      <td>92892</td>\n",
       "    </tr>\n",
       "    <tr>\n",
       "      <th>1</th>\n",
       "      <td>Africa Eastern and Southern</td>\n",
       "      <td>2001</td>\n",
       "      <td>2.586600e+11</td>\n",
       "      <td>408522129</td>\n",
       "    </tr>\n",
       "    <tr>\n",
       "      <th>2</th>\n",
       "      <td>Afghanistan</td>\n",
       "      <td>2001</td>\n",
       "      <td>NaN</td>\n",
       "      <td>21606992</td>\n",
       "    </tr>\n",
       "    <tr>\n",
       "      <th>3</th>\n",
       "      <td>Africa Western and Central</td>\n",
       "      <td>2001</td>\n",
       "      <td>1.480120e+11</td>\n",
       "      <td>274433894</td>\n",
       "    </tr>\n",
       "    <tr>\n",
       "      <th>4</th>\n",
       "      <td>Angola</td>\n",
       "      <td>2001</td>\n",
       "      <td>8.936064e+09</td>\n",
       "      <td>16945753</td>\n",
       "    </tr>\n",
       "  </tbody>\n",
       "</table>\n",
       "</div>"
      ],
      "text/plain": [
       "                  Country Name  Year           GDP Population\n",
       "0                        Aruba  2001  1.920112e+09      92892\n",
       "1  Africa Eastern and Southern  2001  2.586600e+11  408522129\n",
       "2                  Afghanistan  2001           NaN   21606992\n",
       "3   Africa Western and Central  2001  1.480120e+11  274433894\n",
       "4                       Angola  2001  8.936064e+09   16945753"
      ]
     },
     "execution_count": 21,
     "metadata": {},
     "output_type": "execute_result"
    }
   ],
   "source": [
    "merged_df.head()"
   ]
  },
  {
   "cell_type": "markdown",
   "metadata": {},
   "source": [
    "We notice that we have some missing values with Nan , so we will drop them not to have calculation errors later."
   ]
  },
  {
   "cell_type": "code",
   "execution_count": 22,
   "metadata": {},
   "outputs": [],
   "source": [
    "merged_df.dropna(inplace=True)"
   ]
  },
  {
   "cell_type": "code",
   "execution_count": 23,
   "metadata": {},
   "outputs": [
    {
     "data": {
      "text/html": [
       "<div>\n",
       "<style scoped>\n",
       "    .dataframe tbody tr th:only-of-type {\n",
       "        vertical-align: middle;\n",
       "    }\n",
       "\n",
       "    .dataframe tbody tr th {\n",
       "        vertical-align: top;\n",
       "    }\n",
       "\n",
       "    .dataframe thead th {\n",
       "        text-align: right;\n",
       "    }\n",
       "</style>\n",
       "<table border=\"1\" class=\"dataframe\">\n",
       "  <thead>\n",
       "    <tr style=\"text-align: right;\">\n",
       "      <th></th>\n",
       "      <th>Country Name</th>\n",
       "      <th>Year</th>\n",
       "      <th>GDP</th>\n",
       "      <th>Population</th>\n",
       "    </tr>\n",
       "  </thead>\n",
       "  <tbody>\n",
       "    <tr>\n",
       "      <th>0</th>\n",
       "      <td>Aruba</td>\n",
       "      <td>2001</td>\n",
       "      <td>1.920112e+09</td>\n",
       "      <td>92892</td>\n",
       "    </tr>\n",
       "    <tr>\n",
       "      <th>1</th>\n",
       "      <td>Africa Eastern and Southern</td>\n",
       "      <td>2001</td>\n",
       "      <td>2.586600e+11</td>\n",
       "      <td>408522129</td>\n",
       "    </tr>\n",
       "    <tr>\n",
       "      <th>3</th>\n",
       "      <td>Africa Western and Central</td>\n",
       "      <td>2001</td>\n",
       "      <td>1.480120e+11</td>\n",
       "      <td>274433894</td>\n",
       "    </tr>\n",
       "    <tr>\n",
       "      <th>4</th>\n",
       "      <td>Angola</td>\n",
       "      <td>2001</td>\n",
       "      <td>8.936064e+09</td>\n",
       "      <td>16945753</td>\n",
       "    </tr>\n",
       "    <tr>\n",
       "      <th>5</th>\n",
       "      <td>Albania</td>\n",
       "      <td>2001</td>\n",
       "      <td>3.922101e+09</td>\n",
       "      <td>3060173</td>\n",
       "    </tr>\n",
       "  </tbody>\n",
       "</table>\n",
       "</div>"
      ],
      "text/plain": [
       "                  Country Name  Year           GDP Population\n",
       "0                        Aruba  2001  1.920112e+09      92892\n",
       "1  Africa Eastern and Southern  2001  2.586600e+11  408522129\n",
       "3   Africa Western and Central  2001  1.480120e+11  274433894\n",
       "4                       Angola  2001  8.936064e+09   16945753\n",
       "5                      Albania  2001  3.922101e+09    3060173"
      ]
     },
     "execution_count": 23,
     "metadata": {},
     "output_type": "execute_result"
    }
   ],
   "source": [
    "merged_df.head()"
   ]
  },
  {
   "cell_type": "code",
   "execution_count": 24,
   "metadata": {},
   "outputs": [],
   "source": [
    "# convert the column to numeric type\n",
    "merged_df['GDP'] = pd.to_numeric(merged_df['GDP'], errors='coerce')"
   ]
  },
  {
   "cell_type": "markdown",
   "metadata": {},
   "source": [
    "In the frevious line of code, we converted the 'GDP' column values into numeric features to be sure that we can do our calculation. The parameter errors with the value 'coerce' means that if the column has non-numeric features, it will be dropped. "
   ]
  },
  {
   "cell_type": "markdown",
   "metadata": {},
   "source": [
    "First, we calculate the mean_gdp for each contry considering the range of years from 2001 to 2020."
   ]
  },
  {
   "cell_type": "code",
   "execution_count": 25,
   "metadata": {},
   "outputs": [],
   "source": [
    "mean_gdp = merged_df.groupby('Country Name')['GDP'].mean()"
   ]
  },
  {
   "cell_type": "code",
   "execution_count": 26,
   "metadata": {},
   "outputs": [
    {
     "data": {
      "text/plain": [
       "Country Name\n",
       "Afghanistan                    1.368449e+10\n",
       "Africa Eastern and Southern    7.349594e+11\n",
       "Africa Western and Central     5.450736e+11\n",
       "Albania                        1.071493e+10\n",
       "Algeria                        1.455130e+11\n",
       "Name: GDP, dtype: float64"
      ]
     },
     "execution_count": 26,
     "metadata": {},
     "output_type": "execute_result"
    }
   ],
   "source": [
    "mean_gdp.head()"
   ]
  },
  {
   "cell_type": "markdown",
   "metadata": {},
   "source": [
    "## Calculate mean population of each country"
   ]
  },
  {
   "cell_type": "markdown",
   "metadata": {},
   "source": [
    "To calculate the mean population per country, we first convert column 'Population' to numeric type with coerce errors."
   ]
  },
  {
   "cell_type": "code",
   "execution_count": 27,
   "metadata": {},
   "outputs": [],
   "source": [
    "merged_df['Population'] = pd.to_numeric(merged_df['Population'], errors='coerce')"
   ]
  },
  {
   "cell_type": "markdown",
   "metadata": {},
   "source": [
    "We filter out nan values from 'Population' column"
   ]
  },
  {
   "cell_type": "code",
   "execution_count": 28,
   "metadata": {},
   "outputs": [],
   "source": [
    "merged_df_numeric_population = merged_df.dropna(subset=['Population'])"
   ]
  },
  {
   "cell_type": "markdown",
   "metadata": {},
   "source": [
    "Calculate mean population grouped by 'Country Name' "
   ]
  },
  {
   "cell_type": "code",
   "execution_count": 29,
   "metadata": {},
   "outputs": [],
   "source": [
    "mean_population = merged_df_numeric_population.groupby('Country Name')['Population'].mean()"
   ]
  },
  {
   "cell_type": "markdown",
   "metadata": {},
   "source": [
    "Finally, we print mean population"
   ]
  },
  {
   "cell_type": "code",
   "execution_count": 30,
   "metadata": {},
   "outputs": [
    {
     "name": "stdout",
     "output_type": "stream",
     "text": [
      "Country Name\n",
      "Afghanistan                    3.020691e+07\n",
      "Africa Eastern and Southern    5.244906e+08\n",
      "Africa Western and Central     3.542434e+08\n",
      "Albania                        2.941066e+06\n",
      "Algeria                        3.649062e+07\n",
      "                                   ...     \n",
      "West Bank and Gaza             3.800668e+06\n",
      "World                          6.929654e+09\n",
      "Yemen, Rep.                    2.298773e+07\n",
      "Zambia                         1.388408e+07\n",
      "Zimbabwe                       1.295185e+07\n",
      "Name: Population, Length: 256, dtype: float64\n"
     ]
    }
   ],
   "source": [
    "print(mean_population)"
   ]
  },
  {
   "cell_type": "markdown",
   "metadata": {},
   "source": [
    "## Calculate mean per capita GDP (from 2001 to 2021)"
   ]
  },
  {
   "cell_type": "code",
   "execution_count": 31,
   "metadata": {},
   "outputs": [
    {
     "name": "stdout",
     "output_type": "stream",
     "text": [
      "Mean Population of Each Country:\n",
      "Country Name\n",
      "Afghanistan                    3.020691e+07\n",
      "Africa Eastern and Southern    5.244906e+08\n",
      "Africa Western and Central     3.542434e+08\n",
      "Albania                        2.941066e+06\n",
      "Algeria                        3.649062e+07\n",
      "                                   ...     \n",
      "West Bank and Gaza             3.800668e+06\n",
      "World                          6.929654e+09\n",
      "Yemen, Rep.                    2.298773e+07\n",
      "Zambia                         1.388408e+07\n",
      "Zimbabwe                       1.295185e+07\n",
      "Name: Population, Length: 256, dtype: float64\n",
      "\n",
      "Mean Per Capita GDP of Each Country:\n",
      "Country Name\n",
      "Afghanistan                     453.025181\n",
      "Africa Eastern and Southern    1401.282356\n",
      "Africa Western and Central     1538.698043\n",
      "Albania                        3643.212695\n",
      "Algeria                        3987.682912\n",
      "                                  ...     \n",
      "West Bank and Gaza             2593.914147\n",
      "World                          9489.187035\n",
      "Yemen, Rep.                    1113.139711\n",
      "Zambia                         1250.603153\n",
      "Zimbabwe                        945.066268\n",
      "Length: 260, dtype: float64\n"
     ]
    }
   ],
   "source": [
    "# calculate mean per capita GDP\n",
    "mean_per_capita_gdp = mean_gdp / mean_population\n",
    "\n",
    "# Print mean population and mean per capita GDP\n",
    "print(\"Mean Population of Each Country:\")\n",
    "print(mean_population)\n",
    "print(\"\\nMean Per Capita GDP of Each Country:\")\n",
    "print(mean_per_capita_gdp)"
   ]
  },
  {
   "cell_type": "markdown",
   "metadata": {},
   "source": [
    "### Correlation"
   ]
  },
  {
   "cell_type": "markdown",
   "metadata": {},
   "source": [
    "Align the two Series based on common countries"
   ]
  },
  {
   "cell_type": "code",
   "execution_count": 32,
   "metadata": {},
   "outputs": [],
   "source": [
    "common_countries = mean_population.index.intersection(mean_per_capita_gdp.index)\n",
    "mean_population_common = mean_population.loc[common_countries]\n",
    "mean_gdp_per_capita_common = mean_per_capita_gdp.loc[common_countries]"
   ]
  },
  {
   "cell_type": "code",
   "execution_count": 33,
   "metadata": {},
   "outputs": [
    {
     "data": {
      "image/png": "[encoded data removed]",
      "text/plain": [
       "<Figure size 432x288 with 1 Axes>"
      ]
     },
     "metadata": {
      "needs_background": "light"
     },
     "output_type": "display_data"
    }
   ],
   "source": [
    "plt.scatter(mean_population_common, mean_gdp_per_capita_common)\n",
    "plt.xlabel('Mean Population')\n",
    "plt.ylabel('Mean GDP per Capita')\n",
    "plt.title('Mean Population vs Mean GDP per Capita (2001-2021)')\n",
    "plt.show()"
   ]
  },
  {
   "cell_type": "code",
   "execution_count": 34,
   "metadata": {},
   "outputs": [
    {
     "name": "stdout",
     "output_type": "stream",
     "text": [
      "Pearson Correlation Coefficient: -0.09920853566852086\n"
     ]
    }
   ],
   "source": [
    "from scipy.stats import pearsonr\n",
    "# Calculate Pearson correlation coefficient\n",
    "correlation_coeff, _ = pearsonr(mean_population_common, mean_gdp_per_capita_common)\n",
    "print(\"Pearson Correlation Coefficient:\", correlation_coeff)"
   ]
  },
  {
   "cell_type": "markdown",
   "metadata": {},
   "source": [
    "The Pearson correlation coefficient is approximately equal to 0.99, which is close to zero. \n",
    "==> we don't have linear relationship"
   ]
  },
  {
   "cell_type": "markdown",
   "metadata": {},
   "source": [
    "### Regression"
   ]
  },
  {
   "cell_type": "code",
   "execution_count": 35,
   "metadata": {},
   "outputs": [],
   "source": [
    "from sklearn.linear_model import LinearRegression\n",
    "import numpy as np"
   ]
  },
  {
   "cell_type": "markdown",
   "metadata": {},
   "source": [
    "Reshape the data for fitting into the Linear Regression model : the -1 means that the number of rows should be automatically calculated based on the length of the original array and we specify also that there is only one column."
   ]
  },
  {
   "cell_type": "code",
   "execution_count": 36,
   "metadata": {},
   "outputs": [],
   "source": [
    "X = np.array(mean_population_common).reshape(-1, 1)  # independent variable\n",
    "y = np.array(mean_gdp_per_capita_common)            # dependent variable"
   ]
  },
  {
   "cell_type": "code",
   "execution_count": 37,
   "metadata": {},
   "outputs": [
    {
     "name": "stdout",
     "output_type": "stream",
     "text": [
      "[[3.02069118e+07]\n",
      " [5.24490598e+08]\n",
      " [3.54243403e+08]\n",
      " [2.94106647e+06]\n",
      " [3.64906208e+07]\n",
      " [5.70225000e+04]\n",
      " [7.86706316e+04]\n",
      " [2.37297197e+07]\n",
      " [8.75885789e+04]\n",
      " [3.55875034e+08]\n",
      " [4.09906989e+07]\n",
      " [2.94396058e+06]\n",
      " [1.01231889e+05]\n",
      " [2.21376131e+07]\n",
      " [8.42015821e+06]\n",
      " [9.03644268e+06]\n",
      " [3.50195684e+05]\n",
      " [1.16825558e+06]\n",
      " [1.47403456e+08]\n",
      " [2.80948947e+05]\n",
      " [9.56396737e+06]\n",
      " [1.08884959e+07]\n",
      " [3.22491579e+05]\n",
      " [9.29096858e+06]\n",
      " [6.43724211e+04]\n",
      " [6.86557421e+05]\n",
      " [1.00494279e+07]\n",
      " [3.61123368e+06]\n",
      " [1.97344884e+06]\n",
      " [1.95168088e+08]\n",
      " [3.88955579e+05]\n",
      " [7.42117116e+06]\n",
      " [1.57998471e+07]\n",
      " [8.79341158e+06]\n",
      " [4.93359105e+05]\n",
      " [1.43864537e+07]\n",
      " [2.05501243e+07]\n",
      " [3.40600373e+07]\n",
      " [6.97960184e+06]\n",
      " [5.88032143e+04]\n",
      " [4.29068553e+06]\n",
      " [1.04644269e+08]\n",
      " [1.21061750e+07]\n",
      " [1.51256714e+05]\n",
      " [1.71096855e+07]\n",
      " [1.34061395e+09]\n",
      " [4.51743546e+07]\n",
      " [6.95113000e+05]\n",
      " [6.56962705e+07]\n",
      " [4.26093542e+06]\n",
      " [4.56440416e+06]\n",
      " [2.08271661e+07]\n",
      " [4.24997300e+06]\n",
      " [1.12663969e+07]\n",
      " [1.56360667e+05]\n",
      " [1.09605811e+06]\n",
      " [1.04164019e+07]\n",
      " [5.55881232e+06]\n",
      " [8.47491684e+05]\n",
      " [7.08421579e+04]\n",
      " [9.68680189e+06]\n",
      " [2.90598531e+09]\n",
      " [2.20988207e+09]\n",
      " [1.94497445e+09]\n",
      " [1.96951764e+09]\n",
      " [1.50447911e+07]\n",
      " [8.39327402e+07]\n",
      " [6.18794884e+06]\n",
      " [9.62257526e+05]\n",
      " [2.86227918e+06]\n",
      " [1.33822174e+06]\n",
      " [1.06967068e+06]\n",
      " [8.86579223e+07]\n",
      " [3.34303630e+08]\n",
      " [8.89084245e+08]\n",
      " [4.43363396e+08]\n",
      " [4.01025920e+08]\n",
      " [4.39954084e+08]\n",
      " [4.78585789e+04]\n",
      " [8.50531474e+05]\n",
      " [5.36154758e+06]\n",
      " [7.40400167e+08]\n",
      " [6.47838718e+07]\n",
      " [1.66696495e+06]\n",
      " [1.81716684e+06]\n",
      " [3.81654700e+06]\n",
      " [8.19900196e+07]\n",
      " [2.48711499e+07]\n",
      " [1.09380655e+07]\n",
      " [5.65080526e+04]\n",
      " [1.06998842e+05]\n",
      " [1.60547111e+05]\n",
      " [1.42548209e+07]\n",
      " [1.03185500e+07]\n",
      " [1.54302853e+06]\n",
      " [7.56298421e+05]\n",
      " [9.94445037e+06]\n",
      " [6.31697440e+08]\n",
      " [1.14989781e+09]\n",
      " [8.28648795e+06]\n",
      " [7.05906316e+06]\n",
      " [9.97375363e+06]\n",
      " [5.80452058e+09]\n",
      " [3.17575789e+05]\n",
      " [1.22859812e+09]\n",
      " [2.42246035e+08]\n",
      " [7.41492858e+07]\n",
      " [3.09549668e+07]\n",
      " [4.46368437e+06]\n",
      " [8.24655789e+04]\n",
      " [7.66406842e+06]\n",
      " [5.90932004e+07]\n",
      " [2.81347211e+06]\n",
      " [1.27462070e+08]\n",
      " [7.48090632e+06]\n",
      " [1.64004271e+07]\n",
      " [4.22883179e+07]\n",
      " [1.01985579e+05]\n",
      " [4.96018595e+07]\n",
      " [1.78802083e+06]\n",
      " [3.06033558e+06]\n",
      " [5.55650526e+06]\n",
      " [6.25647042e+06]\n",
      " [2.18413112e+09]\n",
      " [5.89135000e+08]\n",
      " [5.34450149e+08]\n",
      " [5.73066669e+08]\n",
      " [2.11016905e+06]\n",
      " [8.43336775e+08]\n",
      " [5.39909568e+06]\n",
      " [2.03082247e+06]\n",
      " [3.88065753e+06]\n",
      " [6.13255353e+06]\n",
      " [3.60041053e+04]\n",
      " [3.11007900e+06]\n",
      " [5.75182191e+09]\n",
      " [5.16521235e+08]\n",
      " [2.88192791e+09]\n",
      " [5.17551368e+05]\n",
      " [5.40607316e+05]\n",
      " [2.13183301e+07]\n",
      " [1.47191834e+07]\n",
      " [2.80100923e+07]\n",
      " [3.86372947e+05]\n",
      " [1.51655548e+07]\n",
      " [4.26052526e+05]\n",
      " [5.60707895e+04]\n",
      " [3.54075689e+06]\n",
      " [1.24361521e+06]\n",
      " [1.13977581e+08]\n",
      " [1.06918053e+05]\n",
      " [3.86816995e+08]\n",
      " [3.30654471e+08]\n",
      " [3.34455138e+08]\n",
      " [5.23530068e+09]\n",
      " [2.84529653e+06]\n",
      " [3.57213158e+04]\n",
      " [2.76387468e+06]\n",
      " [6.17761895e+05]\n",
      " [3.25534833e+07]\n",
      " [2.38135799e+07]\n",
      " [5.07207237e+07]\n",
      " [2.13148858e+06]\n",
      " [1.03578000e+04]\n",
      " [2.65683566e+07]\n",
      " [1.66387756e+07]\n",
      " [2.49137368e+05]\n",
      " [4.37720000e+06]\n",
      " [5.83237347e+06]\n",
      " [1.68698949e+07]\n",
      " [1.60266637e+08]\n",
      " [3.42273683e+08]\n",
      " [2.05309400e+06]\n",
      " [5.58370556e+04]\n",
      " [4.90717937e+06]\n",
      " [1.28954725e+09]\n",
      " [3.34933674e+06]\n",
      " [2.60486495e+07]\n",
      " [2.21932979e+06]\n",
      " [1.80050757e+08]\n",
      " [1.85189474e+04]\n",
      " [3.65160163e+06]\n",
      " [7.31952600e+06]\n",
      " [6.25013879e+06]\n",
      " [2.92398352e+07]\n",
      " [9.40836474e+07]\n",
      " [3.80875032e+07]\n",
      " [1.04462008e+07]\n",
      " [1.07183328e+09]\n",
      " [7.41401157e+08]\n",
      " [3.62953837e+06]\n",
      " [1.75430495e+06]\n",
      " [2.04993501e+07]\n",
      " [1.43845215e+08]\n",
      " [1.01624094e+07]\n",
      " [1.86337316e+05]\n",
      " [3.11793158e+04]\n",
      " [1.79247947e+05]\n",
      " [2.76663909e+07]\n",
      " [1.28623019e+07]\n",
      " [7.26159847e+06]\n",
      " [8.85302105e+04]\n",
      " [6.38162516e+06]\n",
      " [4.95877226e+06]\n",
      " [3.77986250e+04]\n",
      " [5.40061774e+06]\n",
      " [2.03702853e+06]\n",
      " [3.52475811e+07]\n",
      " [5.36408842e+05]\n",
      " [1.42157739e+07]\n",
      " [5.16167662e+07]\n",
      " [1.63372759e+09]\n",
      " [1.63372759e+09]\n",
      " [9.86968425e+06]\n",
      " [4.52438326e+07]\n",
      " [2.02796909e+07]\n",
      " [4.89553684e+04]\n",
      " [1.71867684e+05]\n",
      " [1.08789053e+05]\n",
      " [8.78734001e+08]\n",
      " [8.78734001e+08]\n",
      " [8.78645471e+08]\n",
      " [3.49202305e+07]\n",
      " [5.29188526e+05]\n",
      " [9.44348795e+06]\n",
      " [7.85875005e+06]\n",
      " [1.87373189e+07]\n",
      " [7.63845521e+06]\n",
      " [4.50565401e+07]\n",
      " [6.70023364e+07]\n",
      " [1.09514805e+06]\n",
      " [6.47759647e+06]\n",
      " [1.01814579e+05]\n",
      " [1.33196489e+06]\n",
      " [1.06633199e+07]\n",
      " [7.31178690e+07]\n",
      " [5.16063626e+06]\n",
      " [3.17542105e+04]\n",
      " [1.05419474e+04]\n",
      " [3.31080434e+07]\n",
      " [4.61459902e+07]\n",
      " [7.27311189e+06]\n",
      " [6.28062469e+07]\n",
      " [3.08149273e+08]\n",
      " [2.35337277e+09]\n",
      " [3.37086226e+06]\n",
      " [2.87900421e+07]\n",
      " [2.40036947e+05]\n",
      " [2.74289164e+07]\n",
      " [8.82568673e+07]\n",
      " [1.08020944e+05]\n",
      " [3.80066753e+06]\n",
      " [6.92965358e+09]\n",
      " [2.29877301e+07]\n",
      " [1.38840804e+07]\n",
      " [1.29518479e+07]]\n"
     ]
    }
   ],
   "source": [
    "print(X)"
   ]
  },
  {
   "cell_type": "markdown",
   "metadata": {},
   "source": [
    "Create the linear regression model"
   ]
  },
  {
   "cell_type": "code",
   "execution_count": 38,
   "metadata": {},
   "outputs": [],
   "source": [
    "model = LinearRegression()"
   ]
  },
  {
   "cell_type": "markdown",
   "metadata": {},
   "source": [
    "Fit the model to the data"
   ]
  },
  {
   "cell_type": "code",
   "execution_count": 39,
   "metadata": {},
   "outputs": [
    {
     "data": {
      "text/plain": [
       "LinearRegression()"
      ]
     },
     "execution_count": 39,
     "metadata": {},
     "output_type": "execute_result"
    }
   ],
   "source": [
    "model.fit(X, y)"
   ]
  },
  {
   "cell_type": "markdown",
   "metadata": {},
   "source": [
    "Get the coefficients : slope and intercept"
   ]
  },
  {
   "cell_type": "code",
   "execution_count": 40,
   "metadata": {},
   "outputs": [
    {
     "name": "stdout",
     "output_type": "stream",
     "text": [
      "Slope (Coefficient): -2.5262823845008242e-06\n",
      "Intercept: 15356.6786095125\n"
     ]
    }
   ],
   "source": [
    "slope = model.coef_[0]\n",
    "intercept = model.intercept_\n",
    "\n",
    "print(\"Slope (Coefficient):\", slope)\n",
    "print(\"Intercept:\", intercept)"
   ]
  },
  {
   "cell_type": "markdown",
   "metadata": {},
   "source": [
    "Interpretation : the slope of the regression line represents the change in the dependent variable (mean per capita GDP) for a one unit change in the independent variable (mean population).\n",
    "- In this case, the slope is almost 0, it means that there is no linear relationship between the independent variable and the dependent variable. \n",
    "- The change in the independent variable does not result in any change in the dependent variable.\n",
    "- It is adequate with the results of the pearson coefficient that we got in the correlation part in task."
   ]
  },
  {
   "cell_type": "markdown",
   "metadata": {},
   "source": [
    "Let's make visualization"
   ]
  },
  {
   "cell_type": "code",
   "execution_count": 41,
   "metadata": {},
   "outputs": [
    {
     "name": "stderr",
     "output_type": "stream",
     "text": [
      "/usr/local/lib/python3.6/dist-packages/matplotlib/cbook/__init__.py:1377: FutureWarning: Support for multi-dimensional indexing (e.g. `obj[:, None]`) is deprecated and will be removed in a future version.  Convert to a numpy array before indexing instead.\n",
      "  x[:, None]\n",
      "/usr/local/lib/python3.6/dist-packages/matplotlib/axes/_base.py:237: FutureWarning: Support for multi-dimensional indexing (e.g. `obj[:, None]`) is deprecated and will be removed in a future version.  Convert to a numpy array before indexing instead.\n",
      "  x = x[:, np.newaxis]\n"
     ]
    },
    {
     "data": {
      "image/png": "[encoded data removed]",
      "text/plain": [
       "<Figure size 720x432 with 1 Axes>"
      ]
     },
     "metadata": {
      "needs_background": "light"
     },
     "output_type": "display_data"
    }
   ],
   "source": [
    "plt.figure(figsize=(10, 6))\n",
    "plt.scatter(mean_population_common, mean_gdp_per_capita_common, color='blue', label='data')\n",
    "\n",
    "# plot the linear regression line\n",
    "plt.plot(mean_population_common, model.predict(X), color='red', label='linear Regression')\n",
    "\n",
    "# add labels and title\n",
    "plt.xlabel('Mean Population')\n",
    "plt.ylabel('Mean Per Capita GDP')\n",
    "plt.title('Linear Regression: Mean Population vs. Mean Per Capita GDP')\n",
    "\n",
    "# add legend\n",
    "plt.legend()\n",
    "\n",
    "# show plot\n",
    "plt.show()"
   ]
  },
  {
   "cell_type": "markdown",
   "metadata": {},
   "source": [
    "Visually, we can see that we almost have a horisontal line and many data that are spreaded from this line, so we don't have linear regression."
   ]
  }
 ],
 "metadata": {
  "kernelspec": {
   "display_name": "Python 3",
   "language": "python",
   "name": "python3"
  },
  "language_info": {
   "codemirror_mode": {
    "name": "ipython",
    "version": 3
   },
   "file_extension": ".py",
   "mimetype": "text/x-python",
   "name": "python",
   "nbconvert_exporter": "python",
   "pygments_lexer": "ipython3",
   "version": "3.6.9"
  }
 },
 "nbformat": 4,
 "nbformat_minor": 5
}
